{
 "cells": [
  {
   "cell_type": "markdown",
   "id": "necessary-evanescence",
   "metadata": {
    "slideshow": {
     "slide_type": "slide"
    }
   },
   "source": [
    "# Welcome to Web GIS: An Introduction to Digital Mapping"
   ]
  },
  {
   "cell_type": "markdown",
   "id": "first-transsexual",
   "metadata": {},
   "source": [
    "<img src=\"images/me.png\">\n",
    "\n",
    "- Your instructor: Yoh Kawano and his [web mapping journey](https://yohman.github.io/21S-DH151/Weeks/Week01/misc/me.html)\n",
    "- The Syllabus/Class website (bookmark it now!)\n",
    "  - https://github.com/yohman/21S-DH151/"
   ]
  },
  {
   "cell_type": "markdown",
   "id": "hazardous-fairy",
   "metadata": {
    "slideshow": {
     "slide_type": "slide"
    }
   },
   "source": [
    "## Week by week\n",
    "\n",
    "<img src=\"images/weekly.jpg\">"
   ]
  },
  {
   "cell_type": "markdown",
   "id": "according-driver",
   "metadata": {
    "slideshow": {
     "slide_type": "slide"
    }
   },
   "source": [
    "## Structure of the course\n",
    "- Thinking cap discussions\n",
    "- Lectures\n",
    "- Breaks\n",
    "- Labs"
   ]
  },
  {
   "cell_type": "markdown",
   "id": "printable-casino",
   "metadata": {
    "slideshow": {
     "slide_type": "slide"
    }
   },
   "source": [
    "## Expectations\n",
    "\n",
    "<img src=\"https://assets.zoom.us/images/en-us/desktop/generic/in-meeting/50-participant-gallery-view-example.png\">"
   ]
  },
  {
   "cell_type": "markdown",
   "id": "broke-poison",
   "metadata": {
    "slideshow": {
     "slide_type": "slide"
    }
   },
   "source": [
    "## Participation\n",
    "- It is 10% of your grade\n",
    "- Yes, it is somewhat subjective\n",
    "- How?\n",
    "  - Participating in class discussions\n",
    "  - Participating in the class chatroom\n",
    "  - Helping each other out in the Slack channel\n",
    "  - Coming to my office hours"
   ]
  },
  {
   "cell_type": "markdown",
   "id": "portuguese-corruption",
   "metadata": {
    "slideshow": {
     "slide_type": "slide"
    }
   },
   "source": [
    "## Who are you?\n",
    "\n",
    "- [Survey results](https://docs.google.com/forms/d/1lU0hsVZE9KMsXpfVnKcCvzLz6MXCpXKQANVWrCT12D0/edit#responses)\n",
    "- Introductions (30 seconds)\n",
    "  - Your name\n",
    "  - Your department\n",
    "  - Your interests for this course (in tag format)\n",
    "  - Something to remember you by"
   ]
  },
  {
   "cell_type": "markdown",
   "id": "metropolitan-possibility",
   "metadata": {
    "slideshow": {
     "slide_type": "slide"
    }
   },
   "source": [
    "# What is a web map?"
   ]
  },
  {
   "cell_type": "markdown",
   "id": "adjacent-paradise",
   "metadata": {
    "slideshow": {
     "slide_type": "slide"
    }
   },
   "source": [
    "> A web map is an interactive display of geographic information that you can use to tell stories and answer questions\n",
    "\n",
    "In other words, a web map tells your story through space and time navigation"
   ]
  },
  {
   "cell_type": "markdown",
   "id": "wrapped-beach",
   "metadata": {
    "slideshow": {
     "slide_type": "slide"
    }
   },
   "source": [
    "## Components of a web map"
   ]
  },
  {
   "cell_type": "markdown",
   "id": "recent-convention",
   "metadata": {
    "slideshow": {
     "slide_type": "fragment"
    }
   },
   "source": [
    "- a map (duh)\n",
    "- what else?"
   ]
  },
  {
   "cell_type": "markdown",
   "id": "dominant-soccer",
   "metadata": {
    "slideshow": {
     "slide_type": "slide"
    }
   },
   "source": [
    "## History of Web Maps\n",
    "\n",
    "- Before Google Maps\n",
    "- After Google Maps\n",
    "- Open Street Maps\n",
    "- Leaflet and Open Source Alternatives\n",
    "  - Why?"
   ]
  },
  {
   "cell_type": "markdown",
   "id": "little-volume",
   "metadata": {
    "slideshow": {
     "slide_type": "slide"
    }
   },
   "source": [
    "## Before Google Maps\n",
    "\n",
    "For many of you, Google Maps has existed ever since you began using maps. Perhaps even, \n",
    "\n",
    "`maps = google maps`, yes?\n",
    "\n",
    "But there were web maps before Google Maps..."
   ]
  },
  {
   "cell_type": "markdown",
   "id": "primary-strand",
   "metadata": {
    "slideshow": {
     "slide_type": "slide"
    }
   },
   "source": [
    "<img src=\"images/nkca.jpg\">"
   ]
  },
  {
   "cell_type": "markdown",
   "id": "hispanic-bridges",
   "metadata": {
    "slideshow": {
     "slide_type": "slide"
    }
   },
   "source": [
    "## Google Maps\n",
    "\n",
    ">Before we begin our discussion about the \"advent\" of Google Maps, let's think about the challenges facing the creation of an interactive global web map. What comes to mind?"
   ]
  },
  {
   "cell_type": "markdown",
   "id": "polar-nancy",
   "metadata": {
    "slideshow": {
     "slide_type": "slide"
    }
   },
   "source": [
    "### Marking locations: Latitude and Longitude\n",
    "\n",
    "<img src=\"https://miro.medium.com/max/500/1*djflDgQuCjAFJQeVnyBxjw.png\">"
   ]
  },
  {
   "cell_type": "markdown",
   "id": "wrapped-charger",
   "metadata": {
    "slideshow": {
     "slide_type": "slide"
    }
   },
   "source": [
    "<img src=\"https://miro.medium.com/max/500/1*p0fx9WCDnweiFdMCJAgMzg.png\">"
   ]
  },
  {
   "cell_type": "markdown",
   "id": "missing-cemetery",
   "metadata": {
    "slideshow": {
     "slide_type": "slide"
    }
   },
   "source": [
    "### Picking a projection\n",
    "\n",
    "<img src=\"https://miro.medium.com/max/2500/1*LdnaAF8Vt3dgowWuQz4-Ng.png\" width=1000>\n",
    "\n",
    "[Source: Prototyping a Smoother Map](https://medium.com/google-design/google-maps-cb0326d165f5)"
   ]
  },
  {
   "cell_type": "markdown",
   "id": "regional-darkness",
   "metadata": {
    "slideshow": {
     "slide_type": "slide"
    }
   },
   "source": [
    "> Google chooses Mercator. Why?\n",
    "\n",
    "<img src=\"https://miro.medium.com/max/2500/1*IYL-8HXV2e2i5q9CYZ_S6Q.png\">"
   ]
  },
  {
   "cell_type": "markdown",
   "id": "raising-yellow",
   "metadata": {
    "slideshow": {
     "slide_type": "slide"
    }
   },
   "source": [
    "> What is lost in a Mercator projection?"
   ]
  },
  {
   "cell_type": "markdown",
   "id": "elementary-graphic",
   "metadata": {
    "slideshow": {
     "slide_type": "fragment"
    }
   },
   "source": [
    "<img src=\"https://miro.medium.com/max/2500/1*JeUVu-4n-wjNwO8FAH1OmQ.png\">"
   ]
  },
  {
   "cell_type": "markdown",
   "id": "direct-minutes",
   "metadata": {
    "slideshow": {
     "slide_type": "slide"
    }
   },
   "source": [
    "### \"Tiled\" maps\n",
    "\n",
    "<img src=\"https://miro.medium.com/max/1750/1*GcnUDtbc6Evt3KrSATXw2Q.png\" width=1000>"
   ]
  },
  {
   "cell_type": "markdown",
   "id": "aggregate-stevens",
   "metadata": {
    "slideshow": {
     "slide_type": "slide"
    }
   },
   "source": [
    "<img src=\"https://miro.medium.com/max/2500/1*o2K8PhgEUGRuXDRFzR9w1Q.png\">"
   ]
  },
  {
   "cell_type": "markdown",
   "id": "radical-hebrew",
   "metadata": {
    "slideshow": {
     "slide_type": "slide"
    }
   },
   "source": [
    "<img src=\"https://miro.medium.com/max/2500/1*vTXxE0sbMvGzY3e-tqVJrA.png\">"
   ]
  },
  {
   "cell_type": "markdown",
   "id": "other-terrace",
   "metadata": {
    "slideshow": {
     "slide_type": "slide"
    }
   },
   "source": [
    "<img src=\"https://miro.medium.com/max/1250/1*NxqV5wAc7JwtpTDjnL4B8Q.gif\">"
   ]
  },
  {
   "cell_type": "markdown",
   "id": "visible-increase",
   "metadata": {
    "slideshow": {
     "slide_type": "slide"
    }
   },
   "source": [
    "### Google Maps API\n",
    "\n",
    "https://developers.google.com/maps\n"
   ]
  },
  {
   "cell_type": "markdown",
   "id": "quiet-terry",
   "metadata": {
    "slideshow": {
     "slide_type": "slide"
    }
   },
   "source": [
    "### What about open source alternatives?\n",
    "\n",
    "<a href=\"https://leafletjs.com/\" target=\"_blank\"><img src=\"http://www.ozytive.com/wp-content/uploads/2018/09/Leaflet.png\"></a>\n"
   ]
  },
  {
   "cell_type": "markdown",
   "id": "statewide-mattress",
   "metadata": {
    "slideshow": {
     "slide_type": "slide"
    }
   },
   "source": [
    "## Examples\n",
    "\n",
    "<img src=\"https://sandbox.idre.ucla.edu/sandbox/wp-content/uploads/2020/03/image-8-1024x446.png\">\n",
    "\n",
    "- [Million Dollar Hoods](https://milliondollarhoods.pre.ss.ucla.edu/)\n",
    "- [Covid Maproom](https://sandbox.idre.ucla.edu/sandbox/covid-19-maproom)\n"
   ]
  },
  {
   "cell_type": "markdown",
   "id": "demographic-crystal",
   "metadata": {
    "slideshow": {
     "slide_type": "slide"
    }
   },
   "source": [
    "## What is it built on?\n",
    "\n",
    "- HTML\n",
    "- CSS\n",
    "- Javascript\n"
   ]
  },
  {
   "cell_type": "markdown",
   "id": "young-lindsay",
   "metadata": {
    "slideshow": {
     "slide_type": "slide"
    }
   },
   "source": [
    "<img src=\"https://www.younggates.com/uploads/1602834710html_css_javascript_infographic.png\">"
   ]
  },
  {
   "cell_type": "markdown",
   "id": "educational-thesaurus",
   "metadata": {
    "slideshow": {
     "slide_type": "slide"
    }
   },
   "source": [
    "### HTML\n",
    "\n",
    "```html\n",
    "\n",
    "<html>\n",
    "<head>\n",
    "    <title>My first page</title>\n",
    "</head>\n",
    "<body>\n",
    "    <h1>Hello World</h1>\n",
    "    <p>You must be the change you wish to see in the world</p>\n",
    "    <p>\n",
    "        <i>- Mahatma Gandhi</i>\n",
    "    </p>\n",
    "</body>\n",
    "</html>    \n",
    "```\n",
    "       "
   ]
  },
  {
   "cell_type": "markdown",
   "id": "covered-investigation",
   "metadata": {
    "slideshow": {
     "slide_type": "slide"
    }
   },
   "source": [
    "### CSS\n",
    "\n",
    "```css\n",
    "body,html {\n",
    "\tmargin:0;\n",
    "\theight:100%;\n",
    "\twidth:100%;\n",
    "}\n",
    "\n",
    "#map {\n",
    "\theight: 100%;\n",
    "}\n",
    "body,html {\n",
    "\tmargin:0;\n",
    "\theight:100%;\n",
    "\twidth:100%;\n",
    "}\n",
    "\n",
    "#map {\n",
    "\theight: 100%;\n",
    "}\n",
    "```"
   ]
  },
  {
   "cell_type": "markdown",
   "id": "under-hydrogen",
   "metadata": {
    "slideshow": {
     "slide_type": "slide"
    }
   },
   "source": [
    "### Javascript\n",
    "```javascript\n",
    "var map = L.map('map').setView([34.0697,-118.4432], 17);\n",
    "\n",
    "L.tileLayer('https://{s}.tile.openstreetmap.org/{z}/{x}/{y}.png', {\n",
    "\tattribution: '&copy; <a href=\"https://www.openstreetmap.org/copyright\">OpenStreetMap</a> contributors'\n",
    "}).addTo(map);\n",
    "```"
   ]
  }
 ],
 "metadata": {
  "celltoolbar": "Slideshow",
  "kernelspec": {
   "display_name": "Python 3",
   "language": "python",
   "name": "python3"
  },
  "language_info": {
   "codemirror_mode": {
    "name": "ipython",
    "version": 3
   },
   "file_extension": ".py",
   "mimetype": "text/x-python",
   "name": "python",
   "nbconvert_exporter": "python",
   "pygments_lexer": "ipython3",
   "version": "3.8.5"
  },
  "toc": {
   "base_numbering": 1,
   "nav_menu": {},
   "number_sections": true,
   "sideBar": true,
   "skip_h1_title": false,
   "title_cell": "Table of Contents",
   "title_sidebar": "Contents",
   "toc_cell": false,
   "toc_position": {},
   "toc_section_display": true,
   "toc_window_display": false
  }
 },
 "nbformat": 4,
 "nbformat_minor": 5
}
