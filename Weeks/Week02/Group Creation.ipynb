{
 "cells": [
  {
   "cell_type": "markdown",
   "id": "satisfied-interview",
   "metadata": {
    "slideshow": {
     "slide_type": "slide"
    }
   },
   "source": [
    "## Your topics of interest"
   ]
  },
  {
   "cell_type": "code",
   "execution_count": null,
   "id": "clean-missouri",
   "metadata": {
    "scrolled": true
   },
   "outputs": [],
   "source": [
    "import pandas as pd\n",
    "\n",
    "# bring in the roster\n",
    "df = pd.read_csv('roster.csv')\n",
    "\n",
    "# replace nans with empty strings\n",
    "import numpy as np\n",
    "df = df.replace(np.nan, '', regex=True)\n",
    "\n",
    "df"
   ]
  },
  {
   "cell_type": "code",
   "execution_count": null,
   "id": "super-possession",
   "metadata": {
    "scrolled": true,
    "slideshow": {
     "slide_type": "slide"
    }
   },
   "outputs": [],
   "source": [
    "# create empty list\n",
    "keywords = []\n",
    "\n",
    "# loop through rows, and key columns and append to list\n",
    "for index, row in df.iterrows():\n",
    "    keywords.append(row.key1.strip())\n",
    "    keywords.append(row.key2.strip())\n",
    "    keywords.append(row.key3.strip())\n",
    "    keywords.append(row.key4.strip())\n",
    "    keywords.append(row.key5.strip())\n",
    "\n",
    "# get rid of nan's\n",
    "keywords = [x for x in keywords if str(x) != '']\n",
    "\n",
    "# put it in a dataframe\n",
    "keywords = pd.DataFrame(keywords,columns=['keyword'])\n",
    "\n",
    "# add a count \n",
    "keywords = keywords.value_counts('keyword')\n",
    "\n",
    "# reset the table\n",
    "keywords = keywords.reset_index()\n",
    "\n",
    "# rename columns\n",
    "keywords.columns = ['keyword','count']\n",
    "\n",
    "# show the keyword counts\n",
    "keywords"
   ]
  },
  {
   "cell_type": "code",
   "execution_count": null,
   "id": "split-ranking",
   "metadata": {
    "scrolled": false,
    "slideshow": {
     "slide_type": "slide"
    }
   },
   "outputs": [],
   "source": [
    "for index_keywords,keyword in keywords.iterrows():\n",
    "    print(keyword.keyword.upper())\n",
    "    print('')\n",
    "    for index, row in df.iterrows():\n",
    "        if row.key1.strip() == keyword.keyword or row.key2.strip() == keyword.keyword or row.key3.strip() == keyword.keyword or row.key4.strip() == keyword.keyword or row.key5.strip() == keyword.keyword:\n",
    "            print('    -'+ row['First Name'].title() + ' ' + row['Last Name'].title())\n",
    "    print('')\n",
    "        "
   ]
  },
  {
   "cell_type": "markdown",
   "id": "chinese-venue",
   "metadata": {
    "slideshow": {
     "slide_type": "slide"
    }
   },
   "source": [
    "### The grouping jamboard\n",
    "\n",
    "[Group Jam](https://jamboard.google.com/d/16tgI6r7Fgs0P4EkbPV6KiZ2OoNLbYOwV6czVDDTFUWw/edit?usp=sharing)"
   ]
  }
 ],
 "metadata": {
  "celltoolbar": "Slideshow",
  "kernelspec": {
   "display_name": "Python 3",
   "language": "python",
   "name": "python3"
  },
  "language_info": {
   "codemirror_mode": {
    "name": "ipython",
    "version": 3
   },
   "file_extension": ".py",
   "mimetype": "text/x-python",
   "name": "python",
   "nbconvert_exporter": "python",
   "pygments_lexer": "ipython3",
   "version": "3.8.8"
  },
  "toc": {
   "base_numbering": 1,
   "nav_menu": {},
   "number_sections": true,
   "sideBar": true,
   "skip_h1_title": false,
   "title_cell": "Table of Contents",
   "title_sidebar": "Contents",
   "toc_cell": false,
   "toc_position": {},
   "toc_section_display": true,
   "toc_window_display": false
  }
 },
 "nbformat": 4,
 "nbformat_minor": 5
}
