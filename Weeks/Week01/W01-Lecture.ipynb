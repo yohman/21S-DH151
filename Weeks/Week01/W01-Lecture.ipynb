{
 "cells": [
  {
   "cell_type": "markdown",
   "id": "under-cambridge",
   "metadata": {
    "slideshow": {
     "slide_type": "slide"
    }
   },
   "source": [
    "# Welcome to Web GIS: An Introduction to Digital Mapping\n",
    "\n",
    "What is a web map?"
   ]
  },
  {
   "cell_type": "markdown",
   "id": "driven-benjamin",
   "metadata": {
    "slideshow": {
     "slide_type": "slide"
    }
   },
   "source": [
    "> A web map is an interactive display of geographic information that you can use to tell stories and answer questions\n",
    "\n",
    "In other words, a web map tells your story through space and time navigation"
   ]
  },
  {
   "cell_type": "markdown",
   "id": "coastal-heavy",
   "metadata": {
    "slideshow": {
     "slide_type": "slide"
    }
   },
   "source": [
    "## Components of a web map"
   ]
  },
  {
   "cell_type": "markdown",
   "id": "designed-lancaster",
   "metadata": {
    "slideshow": {
     "slide_type": "slide"
    }
   },
   "source": [
    "- basemap\n",
    "- data layers\n",
    "- markers\n",
    "- popups\n",
    "- media\n",
    "- charts\n",
    "- timelines"
   ]
  },
  {
   "cell_type": "markdown",
   "id": "national-tulsa",
   "metadata": {
    "slideshow": {
     "slide_type": "slide"
    }
   },
   "source": [
    "```javascript\n",
    "\n",
    "var map = 'test'\n",
    "```"
   ]
  },
  {
   "cell_type": "code",
   "execution_count": null,
   "id": "interpreted-wrestling",
   "metadata": {},
   "outputs": [],
   "source": []
  }
 ],
 "metadata": {
  "celltoolbar": "Slideshow",
  "kernelspec": {
   "display_name": "Python 3",
   "language": "python",
   "name": "python3"
  },
  "language_info": {
   "codemirror_mode": {
    "name": "ipython",
    "version": 3
   },
   "file_extension": ".py",
   "mimetype": "text/x-python",
   "name": "python",
   "nbconvert_exporter": "python",
   "pygments_lexer": "ipython3",
   "version": "3.8.5"
  },
  "toc": {
   "base_numbering": 1,
   "nav_menu": {},
   "number_sections": true,
   "sideBar": true,
   "skip_h1_title": false,
   "title_cell": "Table of Contents",
   "title_sidebar": "Contents",
   "toc_cell": false,
   "toc_position": {},
   "toc_section_display": true,
   "toc_window_display": false
  }
 },
 "nbformat": 4,
 "nbformat_minor": 5
}
