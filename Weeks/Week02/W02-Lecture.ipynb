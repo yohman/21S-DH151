{
 "cells": [
  {
   "cell_type": "markdown",
   "id": "packed-charity",
   "metadata": {
    "slideshow": {
     "slide_type": "slide"
    }
   },
   "source": [
    "# Week 2 Lecture\n",
    "\n",
    "Welcome to week two. Week 2 is about you, and your group.\n"
   ]
  },
  {
   "cell_type": "markdown",
   "id": "spoken-click",
   "metadata": {
    "slideshow": {
     "slide_type": "slide"
    }
   },
   "source": [
    "## Why work in groups?\n",
    "\n",
    "- Pro's?\n",
    "- Con's?"
   ]
  },
  {
   "cell_type": "markdown",
   "id": "recreational-ceramic",
   "metadata": {
    "slideshow": {
     "slide_type": "slide"
    }
   },
   "source": [
    "## \"Code\" of conduct\n",
    "- Ask good questions; don’t make demands. (“What do you think about naming this :user_id?”)\n",
    "- Be humble. (“I’m not sure—let’s look it up.”)\n",
    "- Don’t use sarcasm.\n",
    "- Be grateful for the reviewer’s suggestions. (“Good call. I’ll make that change.”)\n",
    "- Seek to understand the reviewer’s perspective.\n",
    "- Communicate which ideas you feel strongly about and those you don’t.\n",
    "- Identify ways to simplify the code while still solving the problem.\n",
    "- Avoid focusing on trivial issues or things outside of the purview of the changes being reviewed.\n",
    "\n",
    "Source: \n",
    "\n",
    "Collaborative Web Development\n",
    "by Adam D. Scott\n",
    "Published by O'Reilly Media, Inc., 2017"
   ]
  },
  {
   "cell_type": "markdown",
   "id": "another-venezuela",
   "metadata": {
    "slideshow": {
     "slide_type": "slide"
    }
   },
   "source": [
    "## Pair/group programming\n",
    "\n",
    "What is \"pair programming?\"\n",
    "\n",
    "> Pair programming can be an extremely beneficial process, which results in improved code and increased team collaboration. Pair programming is the act of two developers programming together. In this process, one person drives by physically typing code into the computer, while the second person navigates by talking through the code that is being written with the driver. When done well, pair programming is extremely effective."
   ]
  },
  {
   "cell_type": "markdown",
   "id": "broad-tackle",
   "metadata": {
    "slideshow": {
     "slide_type": "slide"
    }
   },
   "source": [
    "- the \"driver\"\n",
    "- the \"navigator\"\n",
    "\n",
    "> First, both developers must treat each other with respect and as equals. Perhaps the biggest and most common failure in pair programming that I have seen is when experienced developers are dismissive of ideas made by junior developers. Successful pair programming happens when both parties view it as an opportunity to learn and grow."
   ]
  },
  {
   "cell_type": "markdown",
   "id": "careful-chart",
   "metadata": {
    "slideshow": {
     "slide_type": "slide"
    }
   },
   "source": [
    "## Group Assignment #1 Thick Map Proposal\n",
    "\n",
    "Your first group assignment is to write a proposal for your group project. \n",
    "\n",
    "Get together with your group and do the following:\n",
    "\n",
    "1. Observe the world, ask a question, and come up with a problem statement.\n",
    "1. Review/search for examples of existing literature/websites\n",
    "1. Discuss research methods and logistics.\n",
    "1. Discuss what the project will look like.\n",
    "1. Discuss what data layers will be used for analysis."
   ]
  },
  {
   "cell_type": "markdown",
   "id": "formal-token",
   "metadata": {
    "slideshow": {
     "slide_type": "slide"
    }
   },
   "source": [
    "<img src=\"images/uxresearch.png\" width=800>"
   ]
  },
  {
   "cell_type": "markdown",
   "id": "increased-blast",
   "metadata": {
    "slideshow": {
     "slide_type": "slide"
    }
   },
   "source": [
    "### Write a proposal that includes the following sections:\n",
    "\n",
    "- **Introduction**: Come up with a group name, and write a short description about what your group is for/about.\n",
    "- **Team members**: Introduce each member of the team (include a photo/avatar), their titles, roles, and a short blurb.\n",
    "- **Overview**: Introduce the group project by stating what it is that you are investigating, and why this is a matter of importance.\n",
    "- **Methodology**: Introduce web mapping as a methodology of inquiry, and explain why this medium was chosen.\n",
    "- **Workflow**: Provide a workflow diagram/table that outlines the steps/phases the project will take from start to completion. Include dates/weeks as milestones.\n",
    "- **Technical scope**: Introduce the technologies that project will use (Git, Leaflet, HTML, Javascript, etc) and what role each one will play (a diagram might be helpful)\n",
    "- **Data**: Introduce at least two datasets that will be included in the project (include links as necessary). Make sure the data is \"mappable\" either by manual data entry, through an API, or by downloading it. "
   ]
  }
 ],
 "metadata": {
  "celltoolbar": "Slideshow",
  "kernelspec": {
   "display_name": "Python 3",
   "language": "python",
   "name": "python3"
  },
  "language_info": {
   "codemirror_mode": {
    "name": "ipython",
    "version": 3
   },
   "file_extension": ".py",
   "mimetype": "text/x-python",
   "name": "python",
   "nbconvert_exporter": "python",
   "pygments_lexer": "ipython3",
   "version": "3.8.8"
  },
  "toc": {
   "base_numbering": 1,
   "nav_menu": {},
   "number_sections": true,
   "sideBar": true,
   "skip_h1_title": false,
   "title_cell": "Table of Contents",
   "title_sidebar": "Contents",
   "toc_cell": false,
   "toc_position": {},
   "toc_section_display": true,
   "toc_window_display": false
  }
 },
 "nbformat": 4,
 "nbformat_minor": 5
}
